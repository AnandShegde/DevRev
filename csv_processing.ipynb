{
 "cells": [
  {
   "cell_type": "code",
   "execution_count": 1,
   "metadata": {
    "collapsed": true,
    "pycharm": {
     "name": "#%%\n"
    }
   },
   "outputs": [
    {
     "data": {
      "text/plain": "'1.5.2'"
     },
     "execution_count": 1,
     "metadata": {},
     "output_type": "execute_result"
    }
   ],
   "source": [
    "import pandas as pd\n",
    "import numpy as np\n",
    "pd.__version__"
   ]
  },
  {
   "cell_type": "code",
   "execution_count": 2,
   "outputs": [],
   "source": [
    "# Anyone using this please change these paths according to your machine\n",
    "\n",
    "TRAIN_DATASET = r\"./train_data.csv\"\n",
    "SAMPLE_INPUT_PARA = r\"./dataset/input_paragraph.csv\"\n",
    "SAMPLE_INPUT_QUESTION = r\"./dataset/input_question.csv\"\n",
    "SAMPLE_THEME_INTERVAL = r\"./dataset/theme_interval.csv\"\n",
    "SAMPLE_GROUND_TRUTH = r\"./dataset/ground_truth.csv\""
   ],
   "metadata": {
    "collapsed": false,
    "pycharm": {
     "name": "#%%\n"
    }
   }
  },
  {
   "cell_type": "markdown",
   "source": [
    "## Reading Data from train_data.csv\n",
    "\n",
    "Link for the file is : [https://drive.google.com/file/d/1Z-yb752A3o7b9dqrGt24XU0sl53FVqya/view](https://drive.google.com/file/d/1Z-yb752A3o7b9dqrGt24XU0sl53FVqya/view)"
   ],
   "metadata": {
    "collapsed": false,
    "pycharm": {
     "name": "#%% md\n"
    }
   }
  },
  {
   "cell_type": "code",
   "execution_count": 3,
   "outputs": [
    {
     "name": "stdout",
     "output_type": "stream",
     "text": [
      "(75055, 7)\n"
     ]
    },
    {
     "data": {
      "text/plain": "   id    Theme                                          Paragraph  \\\n0   2  Beyoncé  Beyoncé Giselle Knowles-Carter (/biːˈjɒnseɪ/ b...   \n1   6  Beyoncé  Beyoncé Giselle Knowles-Carter (/biːˈjɒnseɪ/ b...   \n2   7  Beyoncé  Beyoncé Giselle Knowles-Carter (/biːˈjɒnseɪ/ b...   \n3   8  Beyoncé  Beyoncé Giselle Knowles-Carter (/biːˈjɒnseɪ/ b...   \n4   9  Beyoncé  Beyoncé Giselle Knowles-Carter (/biːˈjɒnseɪ/ b...   \n\n                                            Question  Answer_possible  \\\n0  When did Beyonce leave Destiny's Child and bec...             True   \n1      What album made her a worldwide known artist?             True   \n2             Who managed the Destiny's Child group?             True   \n3                     When did Beyoncé rise to fame?             True   \n4     What role did Beyoncé have in Destiny's Child?             True   \n\n               Answer_text Answer_start  \n0                 ['2003']        [526]  \n1  ['Dangerously in Love']        [505]  \n2       ['Mathew Knowles']        [360]  \n3           ['late 1990s']        [276]  \n4          ['lead singer']        [290]  ",
      "text/html": "<div>\n<style scoped>\n    .dataframe tbody tr th:only-of-type {\n        vertical-align: middle;\n    }\n\n    .dataframe tbody tr th {\n        vertical-align: top;\n    }\n\n    .dataframe thead th {\n        text-align: right;\n    }\n</style>\n<table border=\"1\" class=\"dataframe\">\n  <thead>\n    <tr style=\"text-align: right;\">\n      <th></th>\n      <th>id</th>\n      <th>Theme</th>\n      <th>Paragraph</th>\n      <th>Question</th>\n      <th>Answer_possible</th>\n      <th>Answer_text</th>\n      <th>Answer_start</th>\n    </tr>\n  </thead>\n  <tbody>\n    <tr>\n      <th>0</th>\n      <td>2</td>\n      <td>Beyoncé</td>\n      <td>Beyoncé Giselle Knowles-Carter (/biːˈjɒnseɪ/ b...</td>\n      <td>When did Beyonce leave Destiny's Child and bec...</td>\n      <td>True</td>\n      <td>['2003']</td>\n      <td>[526]</td>\n    </tr>\n    <tr>\n      <th>1</th>\n      <td>6</td>\n      <td>Beyoncé</td>\n      <td>Beyoncé Giselle Knowles-Carter (/biːˈjɒnseɪ/ b...</td>\n      <td>What album made her a worldwide known artist?</td>\n      <td>True</td>\n      <td>['Dangerously in Love']</td>\n      <td>[505]</td>\n    </tr>\n    <tr>\n      <th>2</th>\n      <td>7</td>\n      <td>Beyoncé</td>\n      <td>Beyoncé Giselle Knowles-Carter (/biːˈjɒnseɪ/ b...</td>\n      <td>Who managed the Destiny's Child group?</td>\n      <td>True</td>\n      <td>['Mathew Knowles']</td>\n      <td>[360]</td>\n    </tr>\n    <tr>\n      <th>3</th>\n      <td>8</td>\n      <td>Beyoncé</td>\n      <td>Beyoncé Giselle Knowles-Carter (/biːˈjɒnseɪ/ b...</td>\n      <td>When did Beyoncé rise to fame?</td>\n      <td>True</td>\n      <td>['late 1990s']</td>\n      <td>[276]</td>\n    </tr>\n    <tr>\n      <th>4</th>\n      <td>9</td>\n      <td>Beyoncé</td>\n      <td>Beyoncé Giselle Knowles-Carter (/biːˈjɒnseɪ/ b...</td>\n      <td>What role did Beyoncé have in Destiny's Child?</td>\n      <td>True</td>\n      <td>['lead singer']</td>\n      <td>[290]</td>\n    </tr>\n  </tbody>\n</table>\n</div>"
     },
     "execution_count": 3,
     "metadata": {},
     "output_type": "execute_result"
    }
   ],
   "source": [
    "train_data = pd.read_csv(TRAIN_DATASET)\n",
    "train_data.rename(columns={'Unnamed: 0': 'id'}, inplace=True)\n",
    "print(train_data.shape)\n",
    "train_data.head()"
   ],
   "metadata": {
    "collapsed": false,
    "pycharm": {
     "name": "#%%\n"
    }
   }
  },
  {
   "cell_type": "markdown",
   "source": [
    "## Making input_questions csv"
   ],
   "metadata": {
    "collapsed": false,
    "pycharm": {
     "name": "#%% md\n"
    }
   }
  },
  {
   "cell_type": "code",
   "execution_count": 4,
   "outputs": [
    {
     "name": "stdout",
     "output_type": "stream",
     "text": [
      "150110\n"
     ]
    }
   ],
   "source": [
    "sample_input_questions = pd.DataFrame(train_data[['Question', 'Theme']])\n",
    "print(sample_input_questions.size)\n",
    "sample_input_questions.rename(columns={'Question' : 'question'}, inplace=True)\n",
    "sample_input_questions.rename(columns={'Theme' : 'theme'}, inplace=True)\n",
    "sample_input_questions.index = np.arange(1, len(sample_input_questions)+1)\n",
    "sample_input_questions.to_csv(SAMPLE_INPUT_QUESTION, index_label='id')"
   ],
   "metadata": {
    "collapsed": false,
    "pycharm": {
     "name": "#%%\n"
    }
   }
  },
  {
   "cell_type": "markdown",
   "source": [
    "## Making input_paragraph csv"
   ],
   "metadata": {
    "collapsed": false,
    "pycharm": {
     "name": "#%% md\n"
    }
   }
  },
  {
   "cell_type": "code",
   "execution_count": 5,
   "outputs": [],
   "source": [
    "sample_input_para_theme = train_data['Theme'].unique()"
   ],
   "metadata": {
    "collapsed": false,
    "pycharm": {
     "name": "#%%\n"
    }
   }
  },
  {
   "cell_type": "code",
   "execution_count": 6,
   "outputs": [],
   "source": [
    "sample_input_para = pd.DataFrame({\n",
    "    \"theme\" : [],\n",
    "    \"paragraph\" : []\n",
    "})\n",
    "\n",
    "for theme in sample_input_para_theme:\n",
    "    themes = pd.DataFrame(train_data[train_data['Theme'] == theme])\n",
    "    paras = themes['Paragraph'].unique()\n",
    "    len_theme = paras.size\n",
    "    theme_arr = np.array([theme for _ in range(len_theme)])\n",
    "    paras = pd.Series(paras, name='paragraph')\n",
    "    theme_arr = pd.Series(theme_arr, name='theme')\n",
    "    temp_df = pd.concat([theme_arr, paras], axis=1)\n",
    "    sample_input_para = pd.concat([sample_input_para, temp_df])\n",
    "\n",
    "sample_input_para.index = np.arange(1, len(sample_input_para)+1)\n",
    "sample_input_para.to_csv(SAMPLE_INPUT_PARA, encoding='utf-8', index_label='id')"
   ],
   "metadata": {
    "collapsed": false,
    "pycharm": {
     "name": "#%%\n"
    }
   }
  },
  {
   "cell_type": "markdown",
   "source": [
    "## Making theme_interval csv"
   ],
   "metadata": {
    "collapsed": false,
    "pycharm": {
     "name": "#%% md\n"
    }
   }
  },
  {
   "cell_type": "code",
   "execution_count": 7,
   "outputs": [],
   "source": [
    "sample_input_questions['id'] = sample_input_questions.index"
   ],
   "metadata": {
    "collapsed": false,
    "pycharm": {
     "name": "#%%\n"
    }
   }
  },
  {
   "cell_type": "code",
   "execution_count": 8,
   "outputs": [],
   "source": [
    "sample_theme_interval = pd.DataFrame({\n",
    "    \"theme\" : [],\n",
    "    \"start\" : [],\n",
    "    \"end\" : []\n",
    "})\n",
    "\n",
    "for theme in sample_input_para_theme:\n",
    "    themes = pd.DataFrame(sample_input_questions[sample_input_questions['theme']==theme])\n",
    "    start = int(themes['id'].iloc[0])\n",
    "    len_themes = len(themes.index)\n",
    "    end = int(themes['id'].iloc[len_themes-1])\n",
    "    temp_df = pd.DataFrame({\n",
    "        \"theme\" : [theme],\n",
    "        \"start\" : [start],\n",
    "        \"end\" : [end]\n",
    "    })\n",
    "    sample_theme_interval = pd.concat([sample_theme_interval, temp_df])\n",
    "\n",
    "sample_theme_interval.to_csv(SAMPLE_THEME_INTERVAL, encoding='utf-8', index=False)"
   ],
   "metadata": {
    "collapsed": false,
    "pycharm": {
     "name": "#%%\n"
    }
   }
  },
  {
   "cell_type": "markdown",
   "source": [
    "## Making ground_truth csv"
   ],
   "metadata": {
    "collapsed": false,
    "pycharm": {
     "name": "#%% md\n"
    }
   }
  },
  {
   "cell_type": "code",
   "execution_count": 9,
   "outputs": [],
   "source": [
    "train_data.rename(columns={\"Paragraph\":\"paragraph\"}, inplace=True)\n",
    "train_data.rename(columns={\"Theme\":\"theme\"}, inplace=True)\n",
    "train_data.rename(columns={\"Question\":\"question\"}, inplace=True)"
   ],
   "metadata": {
    "collapsed": false,
    "pycharm": {
     "name": "#%%\n"
    }
   }
  },
  {
   "cell_type": "code",
   "execution_count": 10,
   "outputs": [],
   "source": [
    "sample_ground_truth = pd.DataFrame()\n",
    "sample_ground_truth['question_id'] = sample_input_questions.index\n",
    "sample_ground_truth['answers'] = train_data['Answer_text']\n",
    "\n",
    "# Nirmit will add the paragraph_id\n",
    "\n",
    "sample_ground_truth.to_csv(SAMPLE_GROUND_TRUTH, encoding='utf-8', index=False)"
   ],
   "metadata": {
    "collapsed": false,
    "pycharm": {
     "name": "#%%\n"
    }
   }
  }
 ],
 "metadata": {
  "kernelspec": {
   "display_name": "Python 3",
   "language": "python",
   "name": "python3"
  },
  "language_info": {
   "codemirror_mode": {
    "name": "ipython",
    "version": 2
   },
   "file_extension": ".py",
   "mimetype": "text/x-python",
   "name": "python",
   "nbconvert_exporter": "python",
   "pygments_lexer": "ipython2",
   "version": "2.7.6"
  }
 },
 "nbformat": 4,
 "nbformat_minor": 0
}
